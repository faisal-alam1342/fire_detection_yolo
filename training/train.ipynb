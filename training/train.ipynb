{
 "cells": [
  {
   "cell_type": "markdown",
   "metadata": {
    "id": "yNveqeA1KXGy"
   },
   "source": [
    "# Libraries"
   ]
  },
  {
   "cell_type": "code",
   "execution_count": null,
   "metadata": {
    "colab": {
     "base_uri": "https://localhost:8080/"
    },
    "id": "kTvDNSILZoN9",
    "outputId": "48eaf63b-1591-4223-862b-fc08da08645e"
   },
   "outputs": [],
   "source": [
    "import torch\n",
    "import os\n",
    "import glob\n",
    "from IPython.display import Image, display\n",
    "\n",
    "%cd yolov5\n",
    "print(f\"Setup complete. Using torch {torch.__version__} ({torch.cuda.get_device_properties(0).name if torch.cuda.is_available() else 'CPU'})\")"
   ]
  },
  {
   "cell_type": "markdown",
   "metadata": {},
   "source": [
    "# Train YOLOv5 model"
   ]
  },
  {
   "cell_type": "code",
   "execution_count": null,
   "metadata": {},
   "outputs": [],
   "source": [
    "!python train.py --img 640 --batch 16 --epochs 3 --data ../fire_config.yaml --weights yolov5s.pt --workers 1"
   ]
  },
  {
   "cell_type": "markdown",
   "metadata": {
    "id": "AcIRLQOlA14A"
   },
   "source": [
    "# Evaluate Custom YOLOv5 Detector Performance\n",
    "Training losses and performance metrics are saved to Tensorboard and also to a logfile."
   ]
  },
  {
   "cell_type": "code",
   "execution_count": null,
   "metadata": {},
   "outputs": [],
   "source": [
    "from utils.plots import plot_results\n",
    "plot_results('runs/train/exp/results.csv')"
   ]
  },
  {
   "cell_type": "markdown",
   "metadata": {},
   "source": [
    "### Prediction on Images"
   ]
  },
  {
   "cell_type": "code",
   "execution_count": null,
   "metadata": {},
   "outputs": [],
   "source": [
    "!python detect.py --weights runs/train/exp/weights/best.pt --img 640 --conf 0.25 --source ../datasets/fire/val/images/"
   ]
  },
  {
   "cell_type": "code",
   "execution_count": null,
   "metadata": {
    "colab": {
     "base_uri": "https://localhost:8080/",
     "height": 1000
    },
    "id": "ZbUn4_b9GCKO",
    "outputId": "70f601b7-d53d-4efd-fb97-6ae373b15b9f",
    "scrolled": false
   },
   "outputs": [],
   "source": [
    "#display inference on some test images\n",
    "images = glob.glob('runs/detect/exp/*.jpg')\n",
    "\n",
    "for imageName in images[:3]: #assuming JPG\n",
    "    display(Image(filename=imageName, width=400))"
   ]
  },
  {
   "cell_type": "markdown",
   "metadata": {
    "id": "rNn-obvOGITm"
   },
   "source": [
    "### Prediction on Video "
   ]
  },
  {
   "cell_type": "code",
   "execution_count": null,
   "metadata": {},
   "outputs": [],
   "source": [
    "!python detect.py --weights runs/train/exp/weights/best.pt --img 640 --conf 0.25 --source ../input.mp4"
   ]
  },
  {
   "cell_type": "code",
   "execution_count": null,
   "metadata": {},
   "outputs": [],
   "source": [
    "import cv2\n",
    "vidcap = cv2.VideoCapture('runs/detect/exp2/input.mp4')\n",
    "success,image = vidcap.read()\n",
    "images = []\n",
    "while success:\n",
    "    success,image = vidcap.read()\n",
    "    if success:\n",
    "        image = cv2.cvtColor(image, cv2.COLOR_BGR2RGB)\n",
    "        images.append(image)"
   ]
  },
  {
   "cell_type": "code",
   "execution_count": null,
   "metadata": {},
   "outputs": [],
   "source": [
    "from matplotlib import animation, rc\n",
    "import matplotlib.pyplot as plt\n",
    "\n",
    "rc('animation', html='jshtml')\n",
    "\n",
    "def create_animation(ims):\n",
    "    fig = plt.figure(figsize=(9, 9))\n",
    "    plt.axis('off')\n",
    "    im = plt.imshow(ims[0])\n",
    "\n",
    "    def animate_func(i):\n",
    "        im.set_array(ims[i])\n",
    "        return [im]\n",
    "\n",
    "    return animation.FuncAnimation(fig, animate_func, frames = len(ims), interval = 1000//12)\n",
    "\n",
    "create_animation(images)"
   ]
  },
  {
   "cell_type": "markdown",
   "metadata": {},
   "source": [
    "# Visualize feature map"
   ]
  },
  {
   "cell_type": "code",
   "execution_count": null,
   "metadata": {},
   "outputs": [],
   "source": [
    "image_path = \"../datasets/fire/val/images/004dec94c5de631f.jpg\"\n",
    "display(Image(filename=image_path, width=400))"
   ]
  },
  {
   "cell_type": "code",
   "execution_count": null,
   "metadata": {},
   "outputs": [],
   "source": [
    "!python detect.py --weights runs/train/exp/weights/best.pt --img 640 --conf 0.25 --source {image_path} --visualize"
   ]
  },
  {
   "cell_type": "code",
   "execution_count": null,
   "metadata": {},
   "outputs": [],
   "source": [
    "display(Image(filename=\"runs/detect/exp3/004dec94c5de631f/stage23_C3_features.png\"))"
   ]
  }
 ],
 "metadata": {
  "accelerator": "GPU",
  "colab": {
   "collapsed_sections": [],
   "name": "YOLOv5-Custom-Training.ipynb",
   "provenance": []
  },
  "kernelspec": {
   "display_name": "Python 3",
   "language": "python",
   "name": "python3"
  },
  "language_info": {
   "codemirror_mode": {
    "name": "ipython",
    "version": 3
   },
   "file_extension": ".py",
   "mimetype": "text/x-python",
   "name": "python",
   "nbconvert_exporter": "python",
   "pygments_lexer": "ipython3",
   "version": "3.6.13"
  }
 },
 "nbformat": 4,
 "nbformat_minor": 1
}
